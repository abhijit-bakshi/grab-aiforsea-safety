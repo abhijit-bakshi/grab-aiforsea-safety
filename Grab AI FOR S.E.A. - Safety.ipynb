{
 "cells": [
  {
   "cell_type": "code",
   "execution_count": 15,
   "metadata": {},
   "outputs": [],
   "source": [
    "import os\n",
    "import glob\n",
    "\n",
    "import numpy as np\n",
    "import pandas as pd\n",
    "\n",
    "from sklearn.ensemble import RandomForestClassifier\n",
    "from sklearn.model_selection import train_test_split\n",
    "from sklearn import metrics\n",
    "\n",
    "import matplotlib.pyplot as plt"
   ]
  },
  {
   "cell_type": "markdown",
   "metadata": {},
   "source": [
    "# 1. Import features and labels CSVs"
   ]
  },
  {
   "cell_type": "code",
   "execution_count": 16,
   "metadata": {},
   "outputs": [
    {
     "name": "stdout",
     "output_type": "stream",
     "text": [
      "<class 'pandas.core.frame.DataFrame'>\n",
      "RangeIndex: 16135561 entries, 0 to 16135560\n",
      "Data columns (total 11 columns):\n",
      "bookingID         int64\n",
      "Accuracy          float64\n",
      "Bearing           float64\n",
      "acceleration_x    float64\n",
      "acceleration_y    float64\n",
      "acceleration_z    float64\n",
      "gyro_x            float64\n",
      "gyro_y            float64\n",
      "gyro_z            float64\n",
      "second            float64\n",
      "Speed             float64\n",
      "dtypes: float64(10), int64(1)\n",
      "memory usage: 1.3 GB\n"
     ]
    },
    {
     "data": {
      "text/html": [
       "<div>\n",
       "<style scoped>\n",
       "    .dataframe tbody tr th:only-of-type {\n",
       "        vertical-align: middle;\n",
       "    }\n",
       "\n",
       "    .dataframe tbody tr th {\n",
       "        vertical-align: top;\n",
       "    }\n",
       "\n",
       "    .dataframe thead th {\n",
       "        text-align: right;\n",
       "    }\n",
       "</style>\n",
       "<table border=\"1\" class=\"dataframe\">\n",
       "  <thead>\n",
       "    <tr style=\"text-align: right;\">\n",
       "      <th></th>\n",
       "      <th>bookingID</th>\n",
       "      <th>Accuracy</th>\n",
       "      <th>Bearing</th>\n",
       "      <th>acceleration_x</th>\n",
       "      <th>acceleration_y</th>\n",
       "      <th>acceleration_z</th>\n",
       "      <th>gyro_x</th>\n",
       "      <th>gyro_y</th>\n",
       "      <th>gyro_z</th>\n",
       "      <th>second</th>\n",
       "      <th>Speed</th>\n",
       "    </tr>\n",
       "  </thead>\n",
       "  <tbody>\n",
       "    <tr>\n",
       "      <th>0</th>\n",
       "      <td>1194000908341</td>\n",
       "      <td>4.000</td>\n",
       "      <td>203.000000</td>\n",
       "      <td>1.001973</td>\n",
       "      <td>9.745000</td>\n",
       "      <td>-0.790087</td>\n",
       "      <td>-0.066046</td>\n",
       "      <td>0.019175</td>\n",
       "      <td>0.044741</td>\n",
       "      <td>246.0</td>\n",
       "      <td>6.480000</td>\n",
       "    </tr>\n",
       "    <tr>\n",
       "      <th>1</th>\n",
       "      <td>1099511627891</td>\n",
       "      <td>3.000</td>\n",
       "      <td>311.000000</td>\n",
       "      <td>0.452518</td>\n",
       "      <td>9.273026</td>\n",
       "      <td>3.098191</td>\n",
       "      <td>0.005382</td>\n",
       "      <td>0.002155</td>\n",
       "      <td>-0.001436</td>\n",
       "      <td>66.0</td>\n",
       "      <td>0.340365</td>\n",
       "    </tr>\n",
       "    <tr>\n",
       "      <th>2</th>\n",
       "      <td>962072674446</td>\n",
       "      <td>10.000</td>\n",
       "      <td>142.807999</td>\n",
       "      <td>0.018542</td>\n",
       "      <td>-8.041156</td>\n",
       "      <td>-4.960114</td>\n",
       "      <td>0.004223</td>\n",
       "      <td>-0.014875</td>\n",
       "      <td>0.007397</td>\n",
       "      <td>1552.0</td>\n",
       "      <td>2.050000</td>\n",
       "    </tr>\n",
       "    <tr>\n",
       "      <th>3</th>\n",
       "      <td>1142461300867</td>\n",
       "      <td>8.000</td>\n",
       "      <td>171.205292</td>\n",
       "      <td>-0.290698</td>\n",
       "      <td>-8.295367</td>\n",
       "      <td>-3.049042</td>\n",
       "      <td>0.033618</td>\n",
       "      <td>0.046224</td>\n",
       "      <td>0.030559</td>\n",
       "      <td>277.0</td>\n",
       "      <td>17.608448</td>\n",
       "    </tr>\n",
       "    <tr>\n",
       "      <th>4</th>\n",
       "      <td>412316860548</td>\n",
       "      <td>19.379</td>\n",
       "      <td>0.000000</td>\n",
       "      <td>0.675613</td>\n",
       "      <td>8.846130</td>\n",
       "      <td>1.852508</td>\n",
       "      <td>-0.008652</td>\n",
       "      <td>0.003693</td>\n",
       "      <td>0.001160</td>\n",
       "      <td>148.0</td>\n",
       "      <td>0.000000</td>\n",
       "    </tr>\n",
       "    <tr>\n",
       "      <th>5</th>\n",
       "      <td>1176821039217</td>\n",
       "      <td>4.864</td>\n",
       "      <td>277.000000</td>\n",
       "      <td>0.268151</td>\n",
       "      <td>9.011775</td>\n",
       "      <td>1.781286</td>\n",
       "      <td>0.000192</td>\n",
       "      <td>0.003718</td>\n",
       "      <td>-0.011833</td>\n",
       "      <td>56.0</td>\n",
       "      <td>1.053419</td>\n",
       "    </tr>\n",
       "    <tr>\n",
       "      <th>6</th>\n",
       "      <td>738734375093</td>\n",
       "      <td>16.000</td>\n",
       "      <td>290.901459</td>\n",
       "      <td>0.881815</td>\n",
       "      <td>-9.852637</td>\n",
       "      <td>1.785162</td>\n",
       "      <td>0.076716</td>\n",
       "      <td>0.012401</td>\n",
       "      <td>-0.022666</td>\n",
       "      <td>641.0</td>\n",
       "      <td>2.596329</td>\n",
       "    </tr>\n",
       "    <tr>\n",
       "      <th>7</th>\n",
       "      <td>755914244124</td>\n",
       "      <td>9.648</td>\n",
       "      <td>353.000000</td>\n",
       "      <td>-1.690124</td>\n",
       "      <td>9.524643</td>\n",
       "      <td>2.555557</td>\n",
       "      <td>-0.346084</td>\n",
       "      <td>-0.419119</td>\n",
       "      <td>0.118720</td>\n",
       "      <td>115.0</td>\n",
       "      <td>5.090000</td>\n",
       "    </tr>\n",
       "    <tr>\n",
       "      <th>8</th>\n",
       "      <td>8589934608</td>\n",
       "      <td>3.900</td>\n",
       "      <td>22.000000</td>\n",
       "      <td>-0.452377</td>\n",
       "      <td>9.679642</td>\n",
       "      <td>2.923172</td>\n",
       "      <td>-0.003677</td>\n",
       "      <td>0.009720</td>\n",
       "      <td>-0.026703</td>\n",
       "      <td>430.0</td>\n",
       "      <td>13.840000</td>\n",
       "    </tr>\n",
       "    <tr>\n",
       "      <th>9</th>\n",
       "      <td>584115552266</td>\n",
       "      <td>4.000</td>\n",
       "      <td>199.000000</td>\n",
       "      <td>-6.914666</td>\n",
       "      <td>2.839610</td>\n",
       "      <td>6.498062</td>\n",
       "      <td>0.011221</td>\n",
       "      <td>-0.035768</td>\n",
       "      <td>0.039490</td>\n",
       "      <td>1044.0</td>\n",
       "      <td>26.240519</td>\n",
       "    </tr>\n",
       "  </tbody>\n",
       "</table>\n",
       "</div>"
      ],
      "text/plain": [
       "       bookingID  Accuracy     Bearing  acceleration_x  acceleration_y  \\\n",
       "0  1194000908341     4.000  203.000000        1.001973        9.745000   \n",
       "1  1099511627891     3.000  311.000000        0.452518        9.273026   \n",
       "2   962072674446    10.000  142.807999        0.018542       -8.041156   \n",
       "3  1142461300867     8.000  171.205292       -0.290698       -8.295367   \n",
       "4   412316860548    19.379    0.000000        0.675613        8.846130   \n",
       "5  1176821039217     4.864  277.000000        0.268151        9.011775   \n",
       "6   738734375093    16.000  290.901459        0.881815       -9.852637   \n",
       "7   755914244124     9.648  353.000000       -1.690124        9.524643   \n",
       "8     8589934608     3.900   22.000000       -0.452377        9.679642   \n",
       "9   584115552266     4.000  199.000000       -6.914666        2.839610   \n",
       "\n",
       "   acceleration_z    gyro_x    gyro_y    gyro_z  second      Speed  \n",
       "0       -0.790087 -0.066046  0.019175  0.044741   246.0   6.480000  \n",
       "1        3.098191  0.005382  0.002155 -0.001436    66.0   0.340365  \n",
       "2       -4.960114  0.004223 -0.014875  0.007397  1552.0   2.050000  \n",
       "3       -3.049042  0.033618  0.046224  0.030559   277.0  17.608448  \n",
       "4        1.852508 -0.008652  0.003693  0.001160   148.0   0.000000  \n",
       "5        1.781286  0.000192  0.003718 -0.011833    56.0   1.053419  \n",
       "6        1.785162  0.076716  0.012401 -0.022666   641.0   2.596329  \n",
       "7        2.555557 -0.346084 -0.419119  0.118720   115.0   5.090000  \n",
       "8        2.923172 -0.003677  0.009720 -0.026703   430.0  13.840000  \n",
       "9        6.498062  0.011221 -0.035768  0.039490  1044.0  26.240519  "
      ]
     },
     "execution_count": 16,
     "metadata": {},
     "output_type": "execute_result"
    }
   ],
   "source": [
    "path = os.getcwd() + '/safety/features' # feature data\n",
    "feature_files = glob.glob(path + \"/*.csv\")\n",
    "\n",
    "li = []\n",
    "\n",
    "for filename in feature_files:\n",
    "    df = pd.read_csv(filename, index_col=None, header=0)\n",
    "    li.append(df)\n",
    "df_features = pd.concat(li, axis=0, ignore_index=True)\n",
    "\n",
    "df_features.info()\n",
    "df_features.head(10)"
   ]
  },
  {
   "cell_type": "code",
   "execution_count": 17,
   "metadata": {},
   "outputs": [
    {
     "name": "stdout",
     "output_type": "stream",
     "text": [
      "<class 'pandas.core.frame.DataFrame'>\n",
      "RangeIndex: 20018 entries, 0 to 20017\n",
      "Data columns (total 2 columns):\n",
      "bookingID    20018 non-null int64\n",
      "label        20018 non-null int64\n",
      "dtypes: int64(2)\n",
      "memory usage: 312.9 KB\n"
     ]
    },
    {
     "data": {
      "text/plain": [
       "0    15017\n",
       "1     5001\n",
       "dtype: int64"
      ]
     },
     "execution_count": 17,
     "metadata": {},
     "output_type": "execute_result"
    }
   ],
   "source": [
    "df_labels = pd.read_csv(os.getcwd() + \"/safety/labels/part-00000-e9445087-aa0a-433b-a7f6-7f4c19d78ad6-c000.csv\")\n",
    "df_labels.info()\n",
    "pd.value_counts(df_labels['label'].values, sort=False)"
   ]
  },
  {
   "cell_type": "markdown",
   "metadata": {},
   "source": [
    "# 2. Calculate Pitch, Roll, Yaw & Gyro Magnitude features"
   ]
  },
  {
   "cell_type": "code",
   "execution_count": 18,
   "metadata": {},
   "outputs": [],
   "source": [
    "df_features['Gyro_Magnitude'] = np.sqrt(np.power(df_features['gyro_x'], 2) + np.power(df_features['gyro_y'], 2) + np.power(df_features['gyro_z'], 2))\n",
    "\n",
    "df_features[\"Pitch\"] = (np.arctan2(df_features[\"acceleration_x\"], np.sqrt(np.power(df_features['acceleration_y'], 2) + np.power(df_features['acceleration_z'], 2)))*180)/np.pi\n",
    "df_features[\"Roll\"] = (np.arctan2(df_features[\"acceleration_y\"], np.sqrt(np.power(df_features['acceleration_x'], 2) + np.power(df_features['acceleration_z'], 2)))*180)/np.pi\n",
    "df_features[\"Yaw\"] = (np.arctan2(df_features[\"acceleration_z\"], np.sqrt(np.power(df_features['acceleration_x'], 2) + np.power(df_features['acceleration_y'], 2)))*180)/np.pi\n",
    "\n",
    "# Drop acceleration xyz and gyro xyz from freature dataframe\n",
    "df_features.drop(['acceleration_x', 'acceleration_y', 'acceleration_z', 'gyro_x', 'gyro_y', 'gyro_z'], axis=1, inplace=True)\n"
   ]
  },
  {
   "cell_type": "code",
   "execution_count": 19,
   "metadata": {},
   "outputs": [
    {
     "data": {
      "text/html": [
       "<div>\n",
       "<style scoped>\n",
       "    .dataframe tbody tr th:only-of-type {\n",
       "        vertical-align: middle;\n",
       "    }\n",
       "\n",
       "    .dataframe tbody tr th {\n",
       "        vertical-align: top;\n",
       "    }\n",
       "\n",
       "    .dataframe thead th {\n",
       "        text-align: right;\n",
       "    }\n",
       "</style>\n",
       "<table border=\"1\" class=\"dataframe\">\n",
       "  <thead>\n",
       "    <tr style=\"text-align: right;\">\n",
       "      <th></th>\n",
       "      <th>bookingID</th>\n",
       "      <th>Accuracy</th>\n",
       "      <th>Bearing</th>\n",
       "      <th>second</th>\n",
       "      <th>Speed</th>\n",
       "      <th>Gyro_Magnitude</th>\n",
       "      <th>Pitch</th>\n",
       "      <th>Roll</th>\n",
       "      <th>Yaw</th>\n",
       "    </tr>\n",
       "  </thead>\n",
       "  <tbody>\n",
       "    <tr>\n",
       "      <th>0</th>\n",
       "      <td>1194000908341</td>\n",
       "      <td>4.000</td>\n",
       "      <td>203.000000</td>\n",
       "      <td>246.0</td>\n",
       "      <td>6.480000</td>\n",
       "      <td>0.082046</td>\n",
       "      <td>5.851413</td>\n",
       "      <td>82.540165</td>\n",
       "      <td>-4.610976</td>\n",
       "    </tr>\n",
       "    <tr>\n",
       "      <th>1</th>\n",
       "      <td>1099511627891</td>\n",
       "      <td>3.000</td>\n",
       "      <td>311.000000</td>\n",
       "      <td>66.0</td>\n",
       "      <td>0.340365</td>\n",
       "      <td>0.005972</td>\n",
       "      <td>2.650009</td>\n",
       "      <td>71.342596</td>\n",
       "      <td>18.454412</td>\n",
       "    </tr>\n",
       "    <tr>\n",
       "      <th>2</th>\n",
       "      <td>962072674446</td>\n",
       "      <td>10.000</td>\n",
       "      <td>142.807999</td>\n",
       "      <td>1552.0</td>\n",
       "      <td>2.050000</td>\n",
       "      <td>0.017141</td>\n",
       "      <td>0.112449</td>\n",
       "      <td>-58.331840</td>\n",
       "      <td>-31.667913</td>\n",
       "    </tr>\n",
       "    <tr>\n",
       "      <th>3</th>\n",
       "      <td>1142461300867</td>\n",
       "      <td>8.000</td>\n",
       "      <td>171.205292</td>\n",
       "      <td>277.0</td>\n",
       "      <td>17.608448</td>\n",
       "      <td>0.064813</td>\n",
       "      <td>-1.883891</td>\n",
       "      <td>-69.734526</td>\n",
       "      <td>-20.170005</td>\n",
       "    </tr>\n",
       "    <tr>\n",
       "      <th>4</th>\n",
       "      <td>412316860548</td>\n",
       "      <td>19.379</td>\n",
       "      <td>0.000000</td>\n",
       "      <td>148.0</td>\n",
       "      <td>0.000000</td>\n",
       "      <td>0.009478</td>\n",
       "      <td>4.275044</td>\n",
       "      <td>77.433821</td>\n",
       "      <td>11.794268</td>\n",
       "    </tr>\n",
       "    <tr>\n",
       "      <th>5</th>\n",
       "      <td>1176821039217</td>\n",
       "      <td>4.864</td>\n",
       "      <td>277.000000</td>\n",
       "      <td>56.0</td>\n",
       "      <td>1.053419</td>\n",
       "      <td>0.012405</td>\n",
       "      <td>1.672035</td>\n",
       "      <td>78.696172</td>\n",
       "      <td>11.176251</td>\n",
       "    </tr>\n",
       "    <tr>\n",
       "      <th>6</th>\n",
       "      <td>738734375093</td>\n",
       "      <td>16.000</td>\n",
       "      <td>290.901459</td>\n",
       "      <td>641.0</td>\n",
       "      <td>2.596329</td>\n",
       "      <td>0.080950</td>\n",
       "      <td>5.032854</td>\n",
       "      <td>-78.575189</td>\n",
       "      <td>10.229773</td>\n",
       "    </tr>\n",
       "    <tr>\n",
       "      <th>7</th>\n",
       "      <td>755914244124</td>\n",
       "      <td>9.648</td>\n",
       "      <td>353.000000</td>\n",
       "      <td>115.0</td>\n",
       "      <td>5.090000</td>\n",
       "      <td>0.556353</td>\n",
       "      <td>-9.725192</td>\n",
       "      <td>72.168065</td>\n",
       "      <td>14.798480</td>\n",
       "    </tr>\n",
       "    <tr>\n",
       "      <th>8</th>\n",
       "      <td>8589934608</td>\n",
       "      <td>3.900</td>\n",
       "      <td>22.000000</td>\n",
       "      <td>430.0</td>\n",
       "      <td>13.840000</td>\n",
       "      <td>0.028654</td>\n",
       "      <td>-2.561667</td>\n",
       "      <td>73.007550</td>\n",
       "      <td>16.786593</td>\n",
       "    </tr>\n",
       "    <tr>\n",
       "      <th>9</th>\n",
       "      <td>584115552266</td>\n",
       "      <td>4.000</td>\n",
       "      <td>199.000000</td>\n",
       "      <td>1044.0</td>\n",
       "      <td>26.240519</td>\n",
       "      <td>0.054449</td>\n",
       "      <td>-44.276989</td>\n",
       "      <td>16.660285</td>\n",
       "      <td>41.000534</td>\n",
       "    </tr>\n",
       "  </tbody>\n",
       "</table>\n",
       "</div>"
      ],
      "text/plain": [
       "       bookingID  Accuracy     Bearing  second      Speed  Gyro_Magnitude  \\\n",
       "0  1194000908341     4.000  203.000000   246.0   6.480000        0.082046   \n",
       "1  1099511627891     3.000  311.000000    66.0   0.340365        0.005972   \n",
       "2   962072674446    10.000  142.807999  1552.0   2.050000        0.017141   \n",
       "3  1142461300867     8.000  171.205292   277.0  17.608448        0.064813   \n",
       "4   412316860548    19.379    0.000000   148.0   0.000000        0.009478   \n",
       "5  1176821039217     4.864  277.000000    56.0   1.053419        0.012405   \n",
       "6   738734375093    16.000  290.901459   641.0   2.596329        0.080950   \n",
       "7   755914244124     9.648  353.000000   115.0   5.090000        0.556353   \n",
       "8     8589934608     3.900   22.000000   430.0  13.840000        0.028654   \n",
       "9   584115552266     4.000  199.000000  1044.0  26.240519        0.054449   \n",
       "\n",
       "       Pitch       Roll        Yaw  \n",
       "0   5.851413  82.540165  -4.610976  \n",
       "1   2.650009  71.342596  18.454412  \n",
       "2   0.112449 -58.331840 -31.667913  \n",
       "3  -1.883891 -69.734526 -20.170005  \n",
       "4   4.275044  77.433821  11.794268  \n",
       "5   1.672035  78.696172  11.176251  \n",
       "6   5.032854 -78.575189  10.229773  \n",
       "7  -9.725192  72.168065  14.798480  \n",
       "8  -2.561667  73.007550  16.786593  \n",
       "9 -44.276989  16.660285  41.000534  "
      ]
     },
     "execution_count": 19,
     "metadata": {},
     "output_type": "execute_result"
    }
   ],
   "source": [
    "df_features.head(10)"
   ]
  },
  {
   "cell_type": "markdown",
   "metadata": {},
   "source": [
    "# 3. Append labels into feature dataset"
   ]
  },
  {
   "cell_type": "code",
   "execution_count": 20,
   "metadata": {},
   "outputs": [
    {
     "data": {
      "text/plain": [
       "0    11215547\n",
       "1     4938871\n",
       "dtype: int64"
      ]
     },
     "execution_count": 20,
     "metadata": {},
     "output_type": "execute_result"
    }
   ],
   "source": [
    "df_data = pd.merge(df_features, df_labels, how='left', on = 'bookingID')\n",
    "pd.value_counts(df_data['label'].values, sort=False)"
   ]
  },
  {
   "cell_type": "markdown",
   "metadata": {},
   "source": [
    "# 4. Train a RandomForestClassifier"
   ]
  },
  {
   "cell_type": "code",
   "execution_count": 21,
   "metadata": {
    "scrolled": true
   },
   "outputs": [
    {
     "name": "stderr",
     "output_type": "stream",
     "text": [
      "[Parallel(n_jobs=5)]: Using backend ThreadingBackend with 5 concurrent workers.\n"
     ]
    },
    {
     "name": "stdout",
     "output_type": "stream",
     "text": [
      "building tree 1 of 25\n",
      "building tree 2 of 25building tree 3 of 25\n",
      "\n",
      "building tree 5 of 25building tree 4 of 25\n",
      "\n",
      "building tree 6 of 25\n",
      "building tree 7 of 25\n",
      "building tree 8 of 25\n",
      "building tree 9 of 25\n",
      "building tree 10 of 25\n",
      "building tree 11 of 25\n",
      "building tree 12 of 25\n",
      "building tree 13 of 25\n",
      "building tree 14 of 25\n",
      "building tree 15 of 25\n",
      "building tree 16 of 25\n",
      "building tree 17 of 25\n",
      "building tree 18 of 25\n",
      "building tree 19 of 25\n",
      "building tree 20 of 25\n",
      "building tree 21 of 25\n",
      "building tree 22 of 25\n",
      "building tree 23 of 25\n",
      "building tree 24 of 25\n",
      "building tree 25 of 25\n"
     ]
    },
    {
     "name": "stderr",
     "output_type": "stream",
     "text": [
      "[Parallel(n_jobs=5)]: Done  25 out of  25 | elapsed: 16.8min remaining:    0.0s\n",
      "[Parallel(n_jobs=5)]: Done  25 out of  25 | elapsed: 16.8min finished\n"
     ]
    },
    {
     "data": {
      "text/plain": [
       "RandomForestClassifier(bootstrap=True, class_weight=None, criterion='entropy',\n",
       "            max_depth=None, max_features='auto', max_leaf_nodes=None,\n",
       "            min_impurity_decrease=0.0, min_impurity_split=None,\n",
       "            min_samples_leaf=1, min_samples_split=2,\n",
       "            min_weight_fraction_leaf=0.0, n_estimators=25, n_jobs=5,\n",
       "            oob_score=False, random_state=None, verbose=3,\n",
       "            warm_start=False)"
      ]
     },
     "execution_count": 21,
     "metadata": {},
     "output_type": "execute_result"
    }
   ],
   "source": [
    "y = df_data[\"label\"]\n",
    "\n",
    "df_data.drop([\"label\"], axis=1, inplace=True)\n",
    "\n",
    "X_train, X_test, y_train, y_test = train_test_split(df_data, y, test_size = 0.3, random_state=42)\n",
    "model = RandomForestClassifier(n_estimators=25, criterion='entropy',n_jobs = 5, verbose=3)\n",
    "model.fit(X_train, y_train)"
   ]
  },
  {
   "cell_type": "markdown",
   "metadata": {},
   "source": [
    "# 5. Prediction"
   ]
  },
  {
   "cell_type": "code",
   "execution_count": 22,
   "metadata": {},
   "outputs": [
    {
     "name": "stderr",
     "output_type": "stream",
     "text": [
      "[Parallel(n_jobs=5)]: Using backend ThreadingBackend with 5 concurrent workers.\n",
      "[Parallel(n_jobs=5)]: Done  25 out of  25 | elapsed:   24.8s remaining:    0.0s\n",
      "[Parallel(n_jobs=5)]: Done  25 out of  25 | elapsed:   24.8s finished\n"
     ]
    }
   ],
   "source": [
    "y_test_pred = model.predict(X_test)"
   ]
  },
  {
   "cell_type": "code",
   "execution_count": 23,
   "metadata": {},
   "outputs": [
    {
     "name": "stdout",
     "output_type": "stream",
     "text": [
      "('Accuracy', 0.9284631285637821)\n"
     ]
    }
   ],
   "source": [
    "print(\"Accuracy\", metrics.accuracy_score(y_test, y_test_pred))"
   ]
  },
  {
   "cell_type": "code",
   "execution_count": 25,
   "metadata": {},
   "outputs": [
    {
     "data": {
      "image/png": "[encoded data removed]",
      "text/plain": [
       "<Figure size 432x288 with 1 Axes>"
      ]
     },
     "metadata": {
      "needs_background": "light"
     },
     "output_type": "display_data"
    }
   ],
   "source": [
    "fpr, tpr, _ = metrics.roc_curve(y_test,  y_test_pred)\n",
    "auc = metrics.roc_auc_score(y_test, y_test_pred)\n",
    "plt.plot(fpr,tpr,label=\"data, auc=\"+str(auc))\n",
    "plt.legend(loc=4)\n",
    "plt.show()"
   ]
  },
  {
   "cell_type": "code",
   "execution_count": null,
   "metadata": {},
   "outputs": [],
   "source": []
  }
 ],
 "metadata": {
  "kernelspec": {
   "display_name": "Python 2",
   "language": "python",
   "name": "python2"
  },
  "language_info": {
   "codemirror_mode": {
    "name": "ipython",
    "version": 2
   },
   "file_extension": ".py",
   "mimetype": "text/x-python",
   "name": "python",
   "nbconvert_exporter": "python",
   "pygments_lexer": "ipython2",
   "version": "2.7.16"
  }
 },
 "nbformat": 4,
 "nbformat_minor": 2
}
